{
 "cells": [
  {
   "cell_type": "code",
   "execution_count": 13,
   "metadata": {
    "collapsed": true
   },
   "outputs": [],
   "source": [
    "a = 5"
   ]
  },
  {
   "cell_type": "code",
   "execution_count": 14,
   "metadata": {},
   "outputs": [
    {
     "name": "stdout",
     "output_type": "stream",
     "text": [
      "5\n"
     ]
    }
   ],
   "source": [
    "print(a)"
   ]
  },
  {
   "cell_type": "code",
   "execution_count": 15,
   "metadata": {},
   "outputs": [
    {
     "data": {
      "text/plain": [
       "5"
      ]
     },
     "execution_count": 15,
     "metadata": {},
     "output_type": "execute_result"
    }
   ],
   "source": [
    "a"
   ]
  },
  {
   "cell_type": "code",
   "execution_count": 16,
   "metadata": {},
   "outputs": [
    {
     "data": {
      "text/plain": [
       "15"
      ]
     },
     "execution_count": 16,
     "metadata": {},
     "output_type": "execute_result"
    }
   ],
   "source": [
    "a+10"
   ]
  },
  {
   "cell_type": "code",
   "execution_count": 17,
   "metadata": {},
   "outputs": [
    {
     "data": {
      "application/javascript": [
       "require([\"jquery\", \"base/js/namespace\"], function($, Jupyter) {\n",
       "  var Autoplay = function() {\n",
       "    this.interval = null;\n",
       "    this.paused = false;\n",
       "  };\n",
       "\n",
       "  Autoplay.prototype.step = function() {\n",
       "    // don't do anything if explicitly paused\n",
       "    // or another window has focus\n",
       "    if (!document.hasFocus()) {\n",
       "      console.debug(\"autoplay: out of focus\");\n",
       "      return;\n",
       "    }\n",
       "    var nb = Jupyter.notebook;\n",
       "    if (nb.keyboard_manager.mode === \"edit\") {\n",
       "      // don't auto-execute while a cell is being edited\n",
       "      console.debug('autoplay: in edit mode');\n",
       "      return;\n",
       "    }\n",
       "    if (\n",
       "      nb.get_selected_index() + 1 === nb.ncells() &&\n",
       "      nb.get_selected_cell().get_text().trim() === \"\"\n",
       "    ) {\n",
       "      // at the end\n",
       "      console.debug(\"autoplay: at end\");\n",
       "    } else {\n",
       "      Jupyter.notebook.execute_cell_and_select_below();\n",
       "    }\n",
       "  };\n",
       "\n",
       "  Autoplay.prototype.stop = function() {\n",
       "    if (this.interval) {\n",
       "      clearInterval(this.interval);\n",
       "    }\n",
       "  };\n",
       "\n",
       "  Autoplay.prototype.start = function(ms) {\n",
       "    ms = ms || 5000;\n",
       "\n",
       "    this.stop();\n",
       "    this.pasued = false;\n",
       "    var that = this;\n",
       "    this.interval = setInterval(function() {\n",
       "      that.step();\n",
       "    }, ms);\n",
       "  };\n",
       "\n",
       "  if (window.autoplay) {\n",
       "    window.autoplay.stop();\n",
       "  }\n",
       "  window.autoplay = new Autoplay();\n",
       "  window.autoplay.start();\n",
       "  return {\n",
       "    Autoplay: Autoplay,\n",
       "  };\n",
       "});\n"
      ]
     },
     "metadata": {},
     "output_type": "display_data"
    }
   ],
   "source": [
    "%run ./autoplay.py"
   ]
  },
  {
   "cell_type": "code",
   "execution_count": null,
   "metadata": {
    "collapsed": true
   },
   "outputs": [],
   "source": []
  }
 ],
 "metadata": {
  "kernelspec": {
   "display_name": "Python 3",
   "language": "python",
   "name": "python3"
  },
  "language_info": {
   "codemirror_mode": {
    "name": "ipython",
    "version": 3
   },
   "file_extension": ".py",
   "mimetype": "text/x-python",
   "name": "python",
   "nbconvert_exporter": "python",
   "pygments_lexer": "ipython3",
   "version": "3.5.3"
  }
 },
 "nbformat": 4,
 "nbformat_minor": 2
}
